{
 "cells": [
  {
   "cell_type": "raw",
   "id": "47762782",
   "metadata": {},
   "source": [
    "---\n",
    "title: \"01_model_development\"\n",
    "author: \"JTK\"\n",
    "date: \"2025-05-02\"\n",
    "output: html_document\n",
    "editor_options: \n",
    "  chunk_output_type: console\n",
    "---"
   ]
  },
  {
   "cell_type": "markdown",
   "id": "3871e7da",
   "metadata": {},
   "source": [
    "################################################################################\n",
    "\n",
    "This script builds boosted regression trees (specifically, the LightGBM implementation)\n",
    "to forecast total phosphorus concentration in a subset of 3 tributary watersheds\n",
    "to Lake Champlain (see Fig. 1 in the [ReadMe](https://github.com/jtkemper/wqforecast-tutorial/blob/main/README.md))\n",
    "\n",
    "This script builds three model \"types\": \n",
    "\n",
    "1) A (very) simple model designed to predict/forecast water quality concentration where using only flow data from the 18 tributary watersheds in the Lake Champlain basin\n",
    "\n",
    "**AND** \n",
    "\n",
    "2) A more complex model designed to predict/forecast water quality concentration using flow data, antecedent flow conditions, and season\n",
    "\n",
    "**AND**\n",
    "\n",
    "3) An additionally complex model designed to predict/forecast water quality concentration using flow data, antecedent conditions, season, and various static watershed attributes.\n",
    "\n",
    "For the two more complex models, we will use antecedent conditions and watershed characteristics to potentially learn the complex interactions that drive water quality, and then use a backwards variable selection process to build the most robust model possible"
   ]
  },
  {
   "cell_type": "markdown",
   "id": "f8170308",
   "metadata": {},
   "source": [
    "The ultimate goal is to develop models that can be fed streamflow forecast data and forecast \n",
    "future in-stream concentrations. \n",
    "\n",
    "Models are trained on observational data and then predictions are tested on \"test\" datasets\n",
    "which have been wholly witheld from training. This, in essence, provides an upper benchmark for \n",
    "model performance in terms of forecasting ability: how well can these models do in predicting \n",
    "(rather than forecasting) concentration if discharge is \"perfect\"\n",
    "\n",
    "A simple model evaluation is done at the end, as is a toy forecasting example.\n",
    "\n",
    "**Inputs**\n",
    "\n",
    "1) `tp_simplest_train`, `tp_simplest_test`; `tp_mrcomp_train`, `tp_mrcomp_test`; `tp_mstcomp_train`, `tp_mstcomp_test` (*from .csv*): provided dataframes from file with total phosphorus concentration data and various possible predictive features\n",
    "\n",
    "`-simplest` dataframes contain only observed concentration and observed discharge\n",
    "\n",
    "`-mrcomp` dataframes contain observed concentration, discharge, and antecedent flow conditions at a variety of lookback lengths (days, weeks, months)\n",
    "\n",
    "`mstcomp` dataframes contain observed concentration, discharge, and antecedent flow conditions, and a number of static watershed features that heve been shown in the literature to possibly influence phosphorus concentrations \n",
    "\n",
    "*Important* All numeric features have been log-transformed\n",
    "\n",
    "**Outputs**\n",
    "\n",
    "1) Model architectures for total phosphorus prediction using simple and more complex models \n",
    "\n",
    "We can output text files with these saved architecture to file if we so wish\n",
    "\n",
    "2) Performance statistics for total phosphorus concentration predictions on test data \n",
    "\n",
    "3) Predicted time series for total phosphorus for test years (2019-2023)"
   ]
  },
  {
   "cell_type": "markdown",
   "id": "44f5f7b0",
   "metadata": {
    "lines_to_next_cell": 0
   },
   "source": [
    "################################################################################\n",
    "\n",
    "# Housekeeping\n",
    "\n",
    "### Load packages"
   ]
  },
  {
   "cell_type": "code",
   "execution_count": null,
   "id": "e7a6646e",
   "metadata": {
    "eval": false
   },
   "outputs": [],
   "source": [
    "\n",
    "### Data mgmt\n",
    "require(tidyverse)\n",
    "\n",
    "### Model development\n",
    "require(hydroGOF)\n",
    "require(zoo)\n",
    "require(lightgbm)\n",
    "require(R6)\n",
    "\n",
    "### Data viz\n",
    "require(ggthemes)\n",
    "require(IRdisplay)\n",
    "\n",
    "### Proj mgmt\n",
    "require(here)\n"
   ]
  },
  {
   "cell_type": "markdown",
   "id": "bc88a8ec",
   "metadata": {},
   "source": [
    "# Load functions"
   ]
  },
  {
   "cell_type": "code",
   "execution_count": null,
   "id": "1aad2b50",
   "metadata": {
    "lines_to_next_cell": 2
   },
   "outputs": [],
   "source": [
    "\n",
    "source(\"00_functions.R\")"
   ]
  },
  {
   "cell_type": "markdown",
   "id": "b4875f56",
   "metadata": {},
   "source": [
    "# Load data"
   ]
  },
  {
   "cell_type": "code",
   "execution_count": null,
   "id": "bb9ab597",
   "metadata": {
    "tags": [
     "remove_output"
    ]
   },
   "outputs": [],
   "source": [
    "\n",
    "\n",
    "\n",
    "### Model datasets (observational data)\n",
    "\n",
    "#### Simplest model data, training & testing \n",
    "\n",
    "tp_simplest_train <- read_csv(here(\"input-data/testing-training/tp_simplest_train.csv\"))\n",
    "\n",
    "tp_simplest_test <- read_csv(here(\"input-data/testing-training/tp_simplest_test.csv\"))\n",
    "\n",
    "#### More complex (has antecedents & season)\n",
    "\n",
    "tp_mrcomp_train <- read_csv(here(\"input-data/testing-training/tp_mrcomp_train.csv\"))\n",
    "\n",
    "tp_mrcomp_test <- read_csv(here(\"input-data/testing-training/tp_mrcomp_test.csv\"))\n",
    "\n",
    "#### Most complex (antecedents & watershed attributes)\n",
    "\n",
    "tp_mstcomp_train <- read_csv(here(\"input-data/testing-training/tp_mstcomp_train.csv\"))\n",
    "\n",
    "tp_mstcomp_test <- read_csv(here(\"input-data/testing-training/tp_mstcomp_test.csv\"))\n",
    "\n",
    "\n",
    "\n",
    "\n",
    "\n"
   ]
  },
  {
   "cell_type": "markdown",
   "id": "616e285a",
   "metadata": {},
   "source": [
    "# Check out the data"
   ]
  },
  {
   "cell_type": "code",
   "execution_count": null,
   "id": "265af359",
   "metadata": {},
   "outputs": [],
   "source": [
    "\n",
    "#### Check the variables in each dataset \n",
    "\n",
    "head(tp_simplest_train)\n",
    "\n",
    "head(tp_mrcomp_train)\n",
    "\n",
    "head(tp_mrcomp_train)"
   ]
  },
  {
   "cell_type": "markdown",
   "id": "24a9665b",
   "metadata": {},
   "source": [
    "# The simplest model "
   ]
  },
  {
   "cell_type": "code",
   "execution_count": null,
   "id": "bdbb7789",
   "metadata": {},
   "outputs": [],
   "source": [
    "\n",
    "########## Model setup #########################################################\n",
    "\n",
    "### Declare the predictor and response variables \n",
    "### Make sure to exclude variables we left in there \n",
    "### For interpretability\n",
    "\n",
    "preds <- data.matrix(tp_simplest_train %>%\n",
    "                       dplyr::select(log_daily_q))\n",
    "\n",
    "\n",
    "                                                                    \n",
    "                        \n",
    "                        \n",
    "response <- tp_simplest_train$log_conc\n",
    "                        \n",
    "### Set up the environment - this is just preparing the dataset API for use by lightgbm.\n",
    "#### This is our training data\n",
    "simplest_train_lgbm <- lgb.Dataset(preds, label = response)\n",
    "                        \n",
    "#### Declare the test data\n",
    "simplest_test_lgbm <- data.matrix(tp_simplest_test %>%\n",
    "                       dplyr::select(log_daily_q))\n",
    "                    \n",
    "### Declare the hyperparameters \n",
    "### These are just default for now\n",
    "\n",
    "hyperparams <- list(objective = \"regression\",\n",
    "                    num_leaves = 31L,\n",
    "                    learning_rate = 0.1,\n",
    "                    min_data_in_leaf = 20L,\n",
    "                    num_threads = 10L)\n",
    "\n",
    "################################################################################\n",
    "################################################################################\n",
    "\n",
    "### Now, let's do some actual modeling stuff\n",
    "\n",
    "\n",
    "\n",
    "#### Train the model\n",
    "                        \n",
    "set.seed(913)\n",
    "                        \n",
    "simple_model_lgbm <- lgb.train(hyperparams,\n",
    "                               data = simplest_train_lgbm,\n",
    "                               verbose = 1L,\n",
    "                               nrounds = 100L)\n",
    "\n",
    "### Save the trained model\n",
    "lgb.save(simple_model_lgbm, \n",
    "         filename = here(\"input-data\", \"models\", \"lgbm_simplest.txt\"))\n",
    "      \n",
    "\n",
    "                        \n",
    "### Predict with the model on test data\n",
    "\n",
    "simple_model_predicted <- predict(simple_model_lgbm, \n",
    "                                  newdata = simplest_test_lgbm) %>%\n",
    "  as_tibble() %>% \n",
    "  rename(log_predicted_conc = 1)\n",
    "                        \n",
    "                        \n",
    "### Bind predictions on test data to observations\n",
    "\n",
    "predicted_observed <- bind_cols(tp_simplest_test %>% \n",
    "                                  dplyr::rename(log_observed_conc = log_conc),\n",
    "                                simple_model_predicted) \n",
    "\n",
    "### Now use the convert back to linear scale\n",
    "\n",
    "predicted_observed_resc <- predicted_observed %>%\n",
    "  mutate(observed_conc = 10^(log_observed_conc),\n",
    "         predicted_conc = 10^(log_predicted_conc)) %>%\n",
    "  dplyr::select(tributary, date, observed_conc, predicted_conc)\n",
    "\n",
    "                    \n",
    "### Evaluate - we are going to use multiple error metrics\n",
    "\n",
    "#### For each watershed\n",
    "\n",
    "model_stats_simple <- predicted_observed_resc %>%\n",
    "  ungroup() %>%\n",
    "  dplyr::group_by(tributary) %>%\n",
    "  summarise(mae = hydroGOF::mae(predicted_conc, observed_conc),\n",
    "            nse = hydroGOF::NSE(predicted_conc, observed_conc),\n",
    "            kge = hydroGOF::KGE(predicted_conc, \n",
    "                                observed_conc),\n",
    "            pbias = hydroGOF::pbias(predicted_conc,\n",
    "                                    observed_conc)) %>%\n",
    "  dplyr::ungroup() \n",
    "\n",
    "#### Median across all \n",
    "\n",
    "simplest_sum_stats <- model_stats_simple %>%\n",
    "  reframe(across(where(is.numeric),\n",
    "                 list(median = ~median(.x)),\n",
    "                 .names = \"{.fn}_{.col}\"\n",
    "                 )) %>%\n",
    "  mutate(model_feats = colnames(preds),\n",
    "         model_feats_num = length(colnames(preds)),\n",
    "         model_type = \"simplest\")\n",
    "\n",
    "simplest_sum_stats\n"
   ]
  },
  {
   "cell_type": "markdown",
   "id": "874cf9ca",
   "metadata": {},
   "source": [
    "# The more complex model \n",
    "\n",
    "### Run backwards selection"
   ]
  },
  {
   "cell_type": "code",
   "execution_count": null,
   "id": "fac6c66a",
   "metadata": {},
   "outputs": [],
   "source": [
    "#### Train the model using our custom function \n",
    "\n",
    "mrcomp_feat_selec <- lgbm_selector(tp_mrcomp_train)\n",
    "\n",
    "#### Extract the relevant outputs from the feature selection process\n",
    "\n",
    "mrcomp_stats_by_mod <- mrcomp_feat_selec[[2]]"
   ]
  },
  {
   "cell_type": "markdown",
   "id": "f22046a0",
   "metadata": {},
   "source": [
    "### Plot performance"
   ]
  },
  {
   "cell_type": "code",
   "execution_count": null,
   "id": "f5ea79a3",
   "metadata": {},
   "outputs": [],
   "source": [
    "##### Plot the performance by each model \n",
    "\n",
    "plot_stats(mrcomp_stats_by_mod)"
   ]
  },
  {
   "cell_type": "markdown",
   "id": "a7cee8dc",
   "metadata": {},
   "source": [
    "### Choose your favorite model"
   ]
  },
  {
   "cell_type": "code",
   "execution_count": null,
   "id": "053f547c",
   "metadata": {},
   "outputs": [],
   "source": [
    "#********** Choose the model number you think is best **********************#\n",
    "\n",
    "mrcomp_chosen_mod <- mrcomp_feat_selec[[1]] %>% filter(model == 5)\n",
    "\n",
    "### Write to file\n",
    "\n",
    "write_csv(mrcomp_chosen_mod, here(\"output-data/mrcomp_chosen_mod.csv\"))"
   ]
  },
  {
   "cell_type": "markdown",
   "id": "36f4fdbe",
   "metadata": {},
   "source": [
    "### Test chosen model"
   ]
  },
  {
   "cell_type": "code",
   "execution_count": null,
   "id": "1deeb483",
   "metadata": {},
   "outputs": [],
   "source": [
    "###### Examine chosen model performance on test data\n",
    "\n",
    "mrcomp_testing <- lgbm_runner(train_df = tp_mrcomp_train,\n",
    "                              test_df = tp_mrcomp_test,\n",
    "                              chosen_mod = mrcomp_chosen_mod,\n",
    "                              is_tuned = FALSE,\n",
    "                              save = TRUE\n",
    "                              )\n",
    "\n",
    "\n",
    "\n",
    "\n",
    "\n",
    "###### Extract summary statistics \n",
    "\n",
    "mrcomp_sum_stats <- mrcomp_testing[[2]] %>%\n",
    "  mutate(model_feats = mrcomp_stats_by_mod %>%\n",
    "           filter(model == mrcomp_chosen_mod$model[1]) %>%\n",
    "           .$all_vars,\n",
    "         model_feats_num = nrow(mrcomp_chosen_mod),\n",
    "         model_type = \"more_comp\")\n",
    "\n",
    "\n",
    "mrcomp_sum_stats"
   ]
  },
  {
   "cell_type": "markdown",
   "id": "2e78c5cc",
   "metadata": {},
   "source": [
    "# The most complex model\n",
    "\n",
    "### Run backwards selection"
   ]
  },
  {
   "cell_type": "code",
   "execution_count": null,
   "id": "a488e5a3",
   "metadata": {},
   "outputs": [],
   "source": [
    "#### Train the model using our custom function \n",
    "\n",
    "mstcomp_feat_selec <- lgbm_selector(tp_mstcomp_train)\n",
    "\n",
    "#### Extract the relevant outputs from the feature selection process\n",
    "\n",
    "mstcomp_stats_by_mod <- mstcomp_feat_selec[[2]]"
   ]
  },
  {
   "cell_type": "markdown",
   "id": "215a5d8b",
   "metadata": {},
   "source": [
    "### Examine performance"
   ]
  },
  {
   "cell_type": "code",
   "execution_count": null,
   "id": "42c35aaf",
   "metadata": {},
   "outputs": [],
   "source": [
    "##### Plot the performance by each model \n",
    "\n",
    "plot_stats(mstcomp_stats_by_mod)"
   ]
  },
  {
   "cell_type": "markdown",
   "id": "f728b034",
   "metadata": {},
   "source": [
    "### Choose your favorite model"
   ]
  },
  {
   "cell_type": "code",
   "execution_count": null,
   "id": "06717305",
   "metadata": {},
   "outputs": [],
   "source": [
    "##### Pick the model\n",
    "#********** Choose the model number you think is best **********************#\n",
    "\n",
    "mstcomp_chosen_mod <- mstcomp_feat_selec[[1]] %>% filter(model == 68)\n",
    "\n",
    "##### Write to file\n",
    "\n",
    "write_csv(mstcomp_chosen_mod, here(\"output-data/mstcomp_chosen_mod.csv\"))"
   ]
  },
  {
   "cell_type": "markdown",
   "id": "34eda961",
   "metadata": {},
   "source": [
    "### Test chosen model "
   ]
  },
  {
   "cell_type": "code",
   "execution_count": null,
   "id": "a3d39a38",
   "metadata": {
    "lines_to_next_cell": 2
   },
   "outputs": [],
   "source": [
    "##### Examine chosen model performance on test data\n",
    "\n",
    "###### Predict with chosen model\n",
    "\n",
    "\n",
    "mstcomp_testing <- lgbm_runner(train_df = tp_mstcomp_train,\n",
    "                              test_df = tp_mstcomp_test,\n",
    "                              chosen_mod = mstcomp_chosen_mod,\n",
    "                              is_tuned = FALSE,\n",
    "                              save = TRUE\n",
    "                              )\n",
    "\n",
    "###### Extract summary statistics \n",
    "\n",
    "mstcomp_sum_stats <- mstcomp_testing[[2]] %>%\n",
    "  mutate(model_feats = mstcomp_stats_by_mod %>%\n",
    "           filter(model == mstcomp_chosen_mod$model[1]) %>%\n",
    "           .$all_vars,\n",
    "         model_feats_num = nrow(mstcomp_chosen_mod),\n",
    "         model_type = \"most_comp\")\n",
    "\n",
    "mstcomp_sum_stats\n",
    "\n"
   ]
  },
  {
   "cell_type": "markdown",
   "id": "efcdaaab",
   "metadata": {},
   "source": [
    "# Examine performance differences"
   ]
  },
  {
   "cell_type": "code",
   "execution_count": null,
   "id": "bab6a5e4",
   "metadata": {},
   "outputs": [],
   "source": [
    "### Combine all performance stats\n",
    "\n",
    "sum_stats_all <- bind_rows(simplest_sum_stats,\n",
    "                           mrcomp_sum_stats,\n",
    "                           mstcomp_sum_stats) %>%\n",
    "  relocate(model_type, 1) %>%\n",
    "  relocate(model_feats_num, .after = model_type)\n",
    "\n",
    "sum_stats_all"
   ]
  },
  {
   "cell_type": "markdown",
   "id": "4d008cda",
   "metadata": {
    "lines_to_next_cell": 0
   },
   "source": [
    "# Plot performance of all"
   ]
  },
  {
   "cell_type": "code",
   "execution_count": null,
   "id": "a0ba6e73",
   "metadata": {
    "lines_to_next_cell": 0
   },
   "outputs": [],
   "source": [
    "\n",
    "# Combine predictions and observed for each model type\n",
    "\n",
    "observed_vs_pred_all <- bind_rows(predicted_observed_resc %>%\n",
    "                                    mutate(model_type = \"simplest\"),\n",
    "                                  mrcomp_testing[[3]] %>% \n",
    "                                    mutate(model_type = \"mr_comp\"),\n",
    "                                  mstcomp_testing[[3]] %>% \n",
    "                                    mutate(model_type = \"most_comp\"))\n",
    "\n",
    "### Log axis breaks ticks\n",
    "### Log breaks\n",
    "\n",
    "log_breaks <- 10^(-10:10)\n",
    "\n",
    "log_minor_breaks <- rep(1:9, 21)*(10^rep(-10:10, each=9))\n",
    "\n",
    "# Plot \n",
    "\n",
    "observed_vs_pred_all %>%\n",
    "  ggplot() +\n",
    "    geom_abline(slope = 1, intercept = 0) + \n",
    "    geom_point(aes(x = observed_conc, y = predicted_conc, \n",
    "                   color = model_type),\n",
    "               shape = 21, size = 2) +\n",
    "    geom_smooth(aes(x = observed_conc, \n",
    "                    y = predicted_conc),\n",
    "                color = \"darkgrey\",\n",
    "                formula = y~x,\n",
    "                method = \"lm\") +\n",
    "    scale_x_log10(breaks = log_breaks,\n",
    "                  minor_breaks = log_minor_breaks) + \n",
    "    scale_y_log10(breaks = log_breaks,\n",
    "                  minor_breaks = log_minor_breaks) +\n",
    "    scale_color_brewer(palette = \"Set2\",\n",
    "                       guide = \"none\") + \n",
    "    labs(x = \"Observed Conc. (µg/L)\",\n",
    "         y = \"Predicted Conc. (µg/L)\") +\n",
    "    theme_few() +\n",
    "    theme(panel.grid = element_line(color = \"gray90\"),\n",
    "          legend.position = \"bottom\") +\n",
    "    facet_wrap(~model_type, ncol = 1)\n",
    "\n"
   ]
  },
  {
   "cell_type": "markdown",
   "id": "5c8a399d",
   "metadata": {},
   "source": [
    "\n"
   ]
  }
 ],
 "metadata": {
  "jupytext": {
   "cell_metadata_filter": "eval,tags,-all",
   "main_language": "R",
   "notebook_metadata_filter": "-all"
  }
 },
 "nbformat": 4,
 "nbformat_minor": 5
}
